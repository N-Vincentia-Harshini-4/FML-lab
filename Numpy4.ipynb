{
  "nbformat": 4,
  "nbformat_minor": 0,
  "metadata": {
    "colab": {
      "provenance": [],
      "authorship_tag": "ABX9TyMFgR7uAmTjYDs7DhZ7yI1Z",
      "include_colab_link": true
    },
    "kernelspec": {
      "name": "python3",
      "display_name": "Python 3"
    },
    "language_info": {
      "name": "python"
    }
  },
  "cells": [
    {
      "cell_type": "markdown",
      "metadata": {
        "id": "view-in-github",
        "colab_type": "text"
      },
      "source": [
        "<a href=\"https://colab.research.google.com/github/N-Vincentia-Harshini-4/FML-lab/blob/main/Numpy4.ipynb\" target=\"_parent\"><img src=\"https://colab.research.google.com/assets/colab-badge.svg\" alt=\"Open In Colab\"/></a>"
      ]
    },
    {
      "cell_type": "code",
      "execution_count": null,
      "metadata": {
        "colab": {
          "base_uri": "https://localhost:8080/"
        },
        "id": "HgXGqa8E6qeB",
        "outputId": "3fc973af-681f-4142-b415-e9be91261542"
      },
      "outputs": [
        {
          "output_type": "stream",
          "name": "stdout",
          "text": [
            "[2 4 6 8]\n"
          ]
        }
      ],
      "source": [
        "import numpy as np\n",
        "a=np.array([2,4,6,8])\n",
        "print(a)"
      ]
    },
    {
      "cell_type": "code",
      "source": [
        "print(type(a))"
      ],
      "metadata": {
        "colab": {
          "base_uri": "https://localhost:8080/"
        },
        "id": "YaaIOUMs75-I",
        "outputId": "2f84b7c5-e51e-4d79-fd92-4137f9b62639"
      },
      "execution_count": null,
      "outputs": [
        {
          "output_type": "stream",
          "name": "stdout",
          "text": [
            "<class 'numpy.ndarray'>\n"
          ]
        }
      ]
    },
    {
      "cell_type": "code",
      "source": [
        "print(a[0])"
      ],
      "metadata": {
        "colab": {
          "base_uri": "https://localhost:8080/"
        },
        "id": "H9UB5Ky28O5A",
        "outputId": "b2b93df9-3c0d-487c-87e7-7e20c80e1edd"
      },
      "execution_count": null,
      "outputs": [
        {
          "output_type": "stream",
          "name": "stdout",
          "text": [
            "2\n"
          ]
        }
      ]
    },
    {
      "cell_type": "code",
      "source": [
        "x=np.array([[2,4,6],[1,3,5],[6,8,9]])\n",
        "print(x[2])"
      ],
      "metadata": {
        "colab": {
          "base_uri": "https://localhost:8080/"
        },
        "id": "cywYwMiC923Z",
        "outputId": "95e9fc19-3191-43d5-b9f0-34cc2daf0e95"
      },
      "execution_count": null,
      "outputs": [
        {
          "output_type": "stream",
          "name": "stdout",
          "text": [
            "[6 8 9]\n"
          ]
        }
      ]
    },
    {
      "cell_type": "code",
      "source": [
        "x=np.array([[2,4,6],[1,3,5],[6,8,9]])\n",
        "print(x)"
      ],
      "metadata": {
        "colab": {
          "base_uri": "https://localhost:8080/"
        },
        "id": "23RekYuS970h",
        "outputId": "6e541fd4-236e-4819-bb89-286a9bf43273"
      },
      "execution_count": null,
      "outputs": [
        {
          "output_type": "stream",
          "name": "stdout",
          "text": [
            "[[2 4 6]\n",
            " [1 3 5]\n",
            " [6 8 9]]\n"
          ]
        }
      ]
    },
    {
      "cell_type": "code",
      "source": [
        "a=[[2,3,4],[5,6,7]]\n",
        "b=np.asarray(a)\n",
        "print(b)"
      ],
      "metadata": {
        "colab": {
          "base_uri": "https://localhost:8080/"
        },
        "id": "7gGperRR946E",
        "outputId": "e465ebf2-09df-4bc0-836b-58ea4fb0d2b9"
      },
      "execution_count": null,
      "outputs": [
        {
          "output_type": "stream",
          "name": "stdout",
          "text": [
            "[[2 3 4]\n",
            " [5 6 7]]\n"
          ]
        }
      ]
    },
    {
      "cell_type": "code",
      "source": [
        "a=[[2,3,4],[5,6,7]]\n",
        "b=np.asarray(a,order=\"c\")\n",
        "print(b)"
      ],
      "metadata": {
        "colab": {
          "base_uri": "https://localhost:8080/"
        },
        "id": "1aUXzRZcAwMi",
        "outputId": "50310edd-de74-4ce4-b813-264ac7fbdc66"
      },
      "execution_count": null,
      "outputs": [
        {
          "output_type": "stream",
          "name": "stdout",
          "text": [
            "[[2 3 4]\n",
            " [5 6 7]]\n"
          ]
        }
      ]
    },
    {
      "cell_type": "code",
      "source": [
        "for i in np.nditer(b):\n",
        "   print(i)"
      ],
      "metadata": {
        "colab": {
          "base_uri": "https://localhost:8080/"
        },
        "id": "eCaweKbhAyeD",
        "outputId": "e07e2958-2c31-4fd9-d417-b8000688b48f"
      },
      "execution_count": null,
      "outputs": [
        {
          "output_type": "stream",
          "name": "stdout",
          "text": [
            "2\n",
            "3\n",
            "4\n",
            "5\n",
            "6\n",
            "7\n"
          ]
        }
      ]
    },
    {
      "cell_type": "code",
      "source": [
        "a=b\"Fundamentals of machine learning\"\n",
        "np.frombuffer(a)"
      ],
      "metadata": {
        "colab": {
          "base_uri": "https://localhost:8080/"
        },
        "id": "GUiK3z_ZAyVI",
        "outputId": "388c18ad-359f-4af1-ff01-975c2e0fce64"
      },
      "execution_count": null,
      "outputs": [
        {
          "output_type": "execute_result",
          "data": {
            "text/plain": [
              "array([6.19631637e+223, 1.33856863e-152, 1.27873526e-152, 1.69375270e+190])"
            ]
          },
          "metadata": {},
          "execution_count": 21
        }
      ]
    },
    {
      "cell_type": "code",
      "source": [
        "a=b\"Fundamentals of machine learning\"\n",
        "np.frombuffer(a,dtype=\"S1\")"
      ],
      "metadata": {
        "colab": {
          "base_uri": "https://localhost:8080/"
        },
        "id": "6-jyld4ZAyFx",
        "outputId": "a16a1b02-9fb0-48d8-9a9f-33474203a77d"
      },
      "execution_count": null,
      "outputs": [
        {
          "output_type": "execute_result",
          "data": {
            "text/plain": [
              "array([b'F', b'u', b'n', b'd', b'a', b'm', b'e', b'n', b't', b'a', b'l',\n",
              "       b's', b' ', b'o', b'f', b' ', b'm', b'a', b'c', b'h', b'i', b'n',\n",
              "       b'e', b' ', b'l', b'e', b'a', b'r', b'n', b'i', b'n', b'g'],\n",
              "      dtype='|S1')"
            ]
          },
          "metadata": {},
          "execution_count": 24
        }
      ]
    },
    {
      "cell_type": "code",
      "source": [
        "a=b\"Fundamentals of machine learning\"\n",
        "np.frombuffer(a,dtype=\"S1\",count=20)"
      ],
      "metadata": {
        "colab": {
          "base_uri": "https://localhost:8080/"
        },
        "id": "Nt7iJOqNCaOh",
        "outputId": "00c0b4b7-a75e-443e-d875-77f58199a2a6"
      },
      "execution_count": null,
      "outputs": [
        {
          "output_type": "execute_result",
          "data": {
            "text/plain": [
              "array([b'F', b'u', b'n', b'd', b'a', b'm', b'e', b'n', b't', b'a', b'l',\n",
              "       b's', b' ', b'o', b'f', b' ', b'm', b'a', b'c', b'h'], dtype='|S1')"
            ]
          },
          "metadata": {},
          "execution_count": 25
        }
      ]
    },
    {
      "cell_type": "code",
      "source": [
        "a=b\"Fundamentals of machine learning\"\n",
        "np.frombuffer(a,dtype=\"S1\",offset=12)"
      ],
      "metadata": {
        "colab": {
          "base_uri": "https://localhost:8080/"
        },
        "id": "yys8jVLxCaF8",
        "outputId": "81f79f15-25b0-4442-e0ee-fef89cf68552"
      },
      "execution_count": null,
      "outputs": [
        {
          "output_type": "execute_result",
          "data": {
            "text/plain": [
              "array([b' ', b'o', b'f', b' ', b'm', b'a', b'c', b'h', b'i', b'n', b'e',\n",
              "       b' ', b'l', b'e', b'a', b'r', b'n', b'i', b'n', b'g'], dtype='|S1')"
            ]
          },
          "metadata": {},
          "execution_count": 26
        }
      ]
    },
    {
      "cell_type": "code",
      "source": [
        "a=[230,343,552,532]"
      ],
      "metadata": {
        "id": "bRSPDjSfDnP8"
      },
      "execution_count": null,
      "outputs": []
    },
    {
      "cell_type": "code",
      "source": [
        "np.fromiter(a,dtype=int,count=3)"
      ],
      "metadata": {
        "colab": {
          "base_uri": "https://localhost:8080/"
        },
        "id": "Y8cM3uiJCaAm",
        "outputId": "8a2fdd55-41e2-4b32-bdd0-592242c7722d"
      },
      "execution_count": null,
      "outputs": [
        {
          "output_type": "execute_result",
          "data": {
            "text/plain": [
              "array([230, 343, 552])"
            ]
          },
          "metadata": {},
          "execution_count": 29
        }
      ]
    },
    {
      "cell_type": "code",
      "source": [
        "a=np.zeros(4)\n",
        "print(a)"
      ],
      "metadata": {
        "colab": {
          "base_uri": "https://localhost:8080/"
        },
        "id": "QnRQ2t_NCZ3S",
        "outputId": "904e693c-7271-471d-a15d-bc5f734c2fc4"
      },
      "execution_count": null,
      "outputs": [
        {
          "output_type": "stream",
          "name": "stdout",
          "text": [
            "[0. 0. 0. 0.]\n"
          ]
        }
      ]
    },
    {
      "cell_type": "code",
      "source": [
        "a=np.zeros([4,4])\n",
        "print(a)"
      ],
      "metadata": {
        "colab": {
          "base_uri": "https://localhost:8080/"
        },
        "id": "uEOfAcm_EMV-",
        "outputId": "f7f80261-d2f1-4830-b185-4c76b68ac649"
      },
      "execution_count": null,
      "outputs": [
        {
          "output_type": "stream",
          "name": "stdout",
          "text": [
            "[[0. 0. 0. 0.]\n",
            " [0. 0. 0. 0.]\n",
            " [0. 0. 0. 0.]\n",
            " [0. 0. 0. 0.]]\n"
          ]
        }
      ]
    },
    {
      "cell_type": "code",
      "source": [
        "(a)"
      ],
      "metadata": {
        "colab": {
          "base_uri": "https://localhost:8080/"
        },
        "id": "pE43UEtOEMTP",
        "outputId": "c31dbccb-a6cf-402f-bd9b-ef82cc43d524"
      },
      "execution_count": null,
      "outputs": [
        {
          "output_type": "execute_result",
          "data": {
            "text/plain": [
              "array([0., 0., 0., 0.])"
            ]
          },
          "metadata": {},
          "execution_count": 34
        }
      ]
    },
    {
      "cell_type": "code",
      "source": [
        "a=np.zeros([3,4],dtype=float)\n",
        "print(a)"
      ],
      "metadata": {
        "colab": {
          "base_uri": "https://localhost:8080/"
        },
        "id": "qWtv-wUnEg3S",
        "outputId": "8be8e1af-9c76-48de-ac77-a4b1f110e298"
      },
      "execution_count": null,
      "outputs": [
        {
          "output_type": "stream",
          "name": "stdout",
          "text": [
            "[[0. 0. 0. 0.]\n",
            " [0. 0. 0. 0.]\n",
            " [0. 0. 0. 0.]]\n"
          ]
        }
      ]
    },
    {
      "cell_type": "code",
      "source": [
        "a=np.zeros([5,3,4])\n",
        "print(a)"
      ],
      "metadata": {
        "colab": {
          "base_uri": "https://localhost:8080/"
        },
        "id": "KTklL0s4E5sf",
        "outputId": "70b94914-ed17-4d76-8136-a5154507197e"
      },
      "execution_count": null,
      "outputs": [
        {
          "output_type": "stream",
          "name": "stdout",
          "text": [
            "[[[0. 0. 0. 0.]\n",
            "  [0. 0. 0. 0.]\n",
            "  [0. 0. 0. 0.]]\n",
            "\n",
            " [[0. 0. 0. 0.]\n",
            "  [0. 0. 0. 0.]\n",
            "  [0. 0. 0. 0.]]\n",
            "\n",
            " [[0. 0. 0. 0.]\n",
            "  [0. 0. 0. 0.]\n",
            "  [0. 0. 0. 0.]]\n",
            "\n",
            " [[0. 0. 0. 0.]\n",
            "  [0. 0. 0. 0.]\n",
            "  [0. 0. 0. 0.]]\n",
            "\n",
            " [[0. 0. 0. 0.]\n",
            "  [0. 0. 0. 0.]\n",
            "  [0. 0. 0. 0.]]]\n"
          ]
        }
      ]
    },
    {
      "cell_type": "code",
      "source": [
        "a=np.full([4,6],2)\n",
        "print(a)"
      ],
      "metadata": {
        "colab": {
          "base_uri": "https://localhost:8080/"
        },
        "id": "Q-q9zeNqE5ps",
        "outputId": "880bb18f-edc5-4f2c-946a-914db1563d94"
      },
      "execution_count": null,
      "outputs": [
        {
          "output_type": "stream",
          "name": "stdout",
          "text": [
            "[[2 2 2 2 2 2]\n",
            " [2 2 2 2 2 2]\n",
            " [2 2 2 2 2 2]\n",
            " [2 2 2 2 2 2]]\n"
          ]
        }
      ]
    },
    {
      "cell_type": "code",
      "source": [
        "a=np.full([4,4,6],8)\n",
        "print(a)"
      ],
      "metadata": {
        "colab": {
          "base_uri": "https://localhost:8080/"
        },
        "id": "CJJ7MKEsEgow",
        "outputId": "d6307da8-bef2-4334-ca14-e7b13b35d1c8"
      },
      "execution_count": null,
      "outputs": [
        {
          "output_type": "stream",
          "name": "stdout",
          "text": [
            "[[[8 8 8 8 8 8]\n",
            "  [8 8 8 8 8 8]\n",
            "  [8 8 8 8 8 8]\n",
            "  [8 8 8 8 8 8]]\n",
            "\n",
            " [[8 8 8 8 8 8]\n",
            "  [8 8 8 8 8 8]\n",
            "  [8 8 8 8 8 8]\n",
            "  [8 8 8 8 8 8]]\n",
            "\n",
            " [[8 8 8 8 8 8]\n",
            "  [8 8 8 8 8 8]\n",
            "  [8 8 8 8 8 8]\n",
            "  [8 8 8 8 8 8]]\n",
            "\n",
            " [[8 8 8 8 8 8]\n",
            "  [8 8 8 8 8 8]\n",
            "  [8 8 8 8 8 8]\n",
            "  [8 8 8 8 8 8]]]\n"
          ]
        }
      ]
    },
    {
      "cell_type": "code",
      "source": [
        "a=np.random.rand(6,4)\n",
        "print(a)"
      ],
      "metadata": {
        "colab": {
          "base_uri": "https://localhost:8080/"
        },
        "id": "ZOhRx5eM900y",
        "outputId": "1d734b89-5c88-4dac-d32d-4471920e371c"
      },
      "execution_count": null,
      "outputs": [
        {
          "output_type": "stream",
          "name": "stdout",
          "text": [
            "[[0.27060929 0.55606758 0.0642485  0.8853297 ]\n",
            " [0.84550446 0.23098766 0.04662638 0.25860805]\n",
            " [0.16381318 0.5021807  0.30016005 0.60691334]\n",
            " [0.6333911  0.93503391 0.17273041 0.17709823]\n",
            " [0.13800194 0.75462637 0.72450085 0.64840827]\n",
            " [0.1812171  0.85262109 0.0592355  0.09043292]]\n"
          ]
        }
      ]
    },
    {
      "cell_type": "code",
      "source": [
        "a=np.random.rand(6,6,4)\n",
        "print(a)"
      ],
      "metadata": {
        "colab": {
          "base_uri": "https://localhost:8080/"
        },
        "id": "Ow4hp1GRGaZx",
        "outputId": "84321f28-d95f-4f9b-d8fe-4e1508742a22"
      },
      "execution_count": null,
      "outputs": [
        {
          "output_type": "stream",
          "name": "stdout",
          "text": [
            "[[[0.25467975 0.43043851 0.55335594 0.29426885]\n",
            "  [0.47449041 0.28767066 0.01667852 0.8469509 ]\n",
            "  [0.73690085 0.36355075 0.45144847 0.74887493]\n",
            "  [0.42473897 0.59356552 0.45796778 0.44998005]\n",
            "  [0.97062756 0.99334805 0.0611449  0.98641885]\n",
            "  [0.64093699 0.23670462 0.15948305 0.1289984 ]]\n",
            "\n",
            " [[0.04841993 0.66822921 0.29172649 0.85342945]\n",
            "  [0.21669632 0.45721583 0.30217827 0.40679586]\n",
            "  [0.10765491 0.91205942 0.96888659 0.84373554]\n",
            "  [0.97677557 0.80995938 0.26553788 0.74583598]\n",
            "  [0.71314118 0.6604706  0.88105397 0.85621405]\n",
            "  [0.06956238 0.88629886 0.64391789 0.79265382]]\n",
            "\n",
            " [[0.34392427 0.32651754 0.62271465 0.25899941]\n",
            "  [0.92127365 0.7282549  0.54475628 0.65788358]\n",
            "  [0.15946414 0.09530647 0.90702823 0.93527825]\n",
            "  [0.82437082 0.83636159 0.45417007 0.66531498]\n",
            "  [0.58875299 0.84922008 0.02940187 0.80543824]\n",
            "  [0.60077931 0.38444536 0.05307105 0.21967469]]\n",
            "\n",
            " [[0.09733183 0.95245529 0.8835273  0.18672287]\n",
            "  [0.58703478 0.05835447 0.71611783 0.58110579]\n",
            "  [0.94899443 0.80031181 0.76748255 0.05165255]\n",
            "  [0.92933247 0.05020431 0.10020082 0.18548786]\n",
            "  [0.29655622 0.60139754 0.50681521 0.82019172]\n",
            "  [0.07767257 0.94968893 0.31075816 0.46163038]]\n",
            "\n",
            " [[0.21168189 0.48103374 0.52328398 0.47513202]\n",
            "  [0.82283679 0.26865419 0.9467608  0.21209027]\n",
            "  [0.84092119 0.20633369 0.24881256 0.26742849]\n",
            "  [0.33710415 0.66088344 0.57221378 0.20301705]\n",
            "  [0.09660867 0.20807794 0.74083914 0.55554043]\n",
            "  [0.36767742 0.43535063 0.38268199 0.90103592]]\n",
            "\n",
            " [[0.04537105 0.32322425 0.79400055 0.09593438]\n",
            "  [0.46285241 0.95037242 0.97178149 0.20431985]\n",
            "  [0.26929191 0.41578341 0.8372911  0.19109157]\n",
            "  [0.99304571 0.50526805 0.01735095 0.03736419]\n",
            "  [0.33423014 0.95724303 0.83645546 0.69557379]\n",
            "  [0.2186532  0.55068057 0.98138553 0.37890333]]]\n"
          ]
        }
      ]
    },
    {
      "cell_type": "code",
      "source": [
        "a=np.ones([4,5])\n",
        "print(a)"
      ],
      "metadata": {
        "colab": {
          "base_uri": "https://localhost:8080/"
        },
        "id": "48Qc1uHTGaWJ",
        "outputId": "e6fa4e7d-9669-49fb-aae1-fb94b47713e9"
      },
      "execution_count": null,
      "outputs": [
        {
          "output_type": "stream",
          "name": "stdout",
          "text": [
            "[[1. 1. 1. 1. 1.]\n",
            " [1. 1. 1. 1. 1.]\n",
            " [1. 1. 1. 1. 1.]\n",
            " [1. 1. 1. 1. 1.]]\n"
          ]
        }
      ]
    },
    {
      "cell_type": "code",
      "source": [
        "a=np.ones([6,4,5])\n",
        "print(a)"
      ],
      "metadata": {
        "colab": {
          "base_uri": "https://localhost:8080/"
        },
        "id": "yvum3RmWGaSB",
        "outputId": "0304eb20-aa6d-49e7-e7c7-ccb44c1ef225"
      },
      "execution_count": null,
      "outputs": [
        {
          "output_type": "stream",
          "name": "stdout",
          "text": [
            "[[[1. 1. 1. 1. 1.]\n",
            "  [1. 1. 1. 1. 1.]\n",
            "  [1. 1. 1. 1. 1.]\n",
            "  [1. 1. 1. 1. 1.]]\n",
            "\n",
            " [[1. 1. 1. 1. 1.]\n",
            "  [1. 1. 1. 1. 1.]\n",
            "  [1. 1. 1. 1. 1.]\n",
            "  [1. 1. 1. 1. 1.]]\n",
            "\n",
            " [[1. 1. 1. 1. 1.]\n",
            "  [1. 1. 1. 1. 1.]\n",
            "  [1. 1. 1. 1. 1.]\n",
            "  [1. 1. 1. 1. 1.]]\n",
            "\n",
            " [[1. 1. 1. 1. 1.]\n",
            "  [1. 1. 1. 1. 1.]\n",
            "  [1. 1. 1. 1. 1.]\n",
            "  [1. 1. 1. 1. 1.]]\n",
            "\n",
            " [[1. 1. 1. 1. 1.]\n",
            "  [1. 1. 1. 1. 1.]\n",
            "  [1. 1. 1. 1. 1.]\n",
            "  [1. 1. 1. 1. 1.]]\n",
            "\n",
            " [[1. 1. 1. 1. 1.]\n",
            "  [1. 1. 1. 1. 1.]\n",
            "  [1. 1. 1. 1. 1.]\n",
            "  [1. 1. 1. 1. 1.]]]\n"
          ]
        }
      ]
    },
    {
      "cell_type": "code",
      "source": [],
      "metadata": {
        "id": "uGmnhowcGaOJ"
      },
      "execution_count": null,
      "outputs": []
    }
  ]
}